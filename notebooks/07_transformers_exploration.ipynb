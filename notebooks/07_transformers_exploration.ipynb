{
 "cells": [
  {
   "attachments": {},
   "cell_type": "markdown",
   "metadata": {},
   "source": [
    "## TODO:\n",
    "- Experiment with base longformer embedding + FFNN head to output scores\n",
    "- Longformer might not be necessary as adding prompt text overfits the small train data\n",
    "  - -> we have an extrapolative task i.e. low train variance high test variance\n",
    "- For the train set only, try training on competition metric, so backprop from the estimate mcrmse\n",
    "\n",
    "### Basics\n",
    "- Create dataset class for the train data to load + iteratively batch and tokenise samples\n",
    "  - pass tokenizer class / name through constructor\n",
    "  - dataloader custom collate function to add padding ? using tokenizer pad id\n",
    "- Try domain fine-tuning on commonlit texts + supervised training on comp dataset"
   ]
  },
  {
   "cell_type": "code",
   "execution_count": null,
   "metadata": {},
   "outputs": [],
   "source": []
  },
  {
   "cell_type": "code",
   "execution_count": null,
   "metadata": {},
   "outputs": [],
   "source": []
  }
 ],
 "metadata": {
  "language_info": {
   "name": "python"
  },
  "orig_nbformat": 4
 },
 "nbformat": 4,
 "nbformat_minor": 2
}
