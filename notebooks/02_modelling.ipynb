{
 "cells": [
  {
   "attachments": {},
   "cell_type": "markdown",
   "metadata": {},
   "source": [
    "Few ideas so far:\n",
    "\n",
    "## 1 FFNN based\n",
    "- Train an nn on-top of sentence transformer to output logits / probs for score\n",
    "  - optimise against given scores\n",
    "\n",
    "\n",
    "## 2 LLM based\n",
    "- Other approach might be to get a good language model to summarise the given prompt,\n",
    "- embed its output\n",
    "- embed the inference input\n",
    "- get the absolute difference between the two, using the llm output as a ground truth\n",
    "  - the closer the distance, the better the score we assign to the prompt\n",
    "- could also experiment with fine-tuning the llm against the train dataset, or other summarisation datasets\n",
    "  - would be a good opportunity to experiment with techniques such as peft and lora\n",
    "\n",
    "## 3 ensemble\n",
    "- Ensemble everything, maybe using somehing like rank averaging"
   ]
  },
  {
   "attachments": {},
   "cell_type": "markdown",
   "metadata": {},
   "source": []
  }
 ],
 "metadata": {
  "language_info": {
   "name": "python"
  },
  "orig_nbformat": 4
 },
 "nbformat": 4,
 "nbformat_minor": 2
}
