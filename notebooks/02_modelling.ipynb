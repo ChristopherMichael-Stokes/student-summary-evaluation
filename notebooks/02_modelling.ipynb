{
 "cells": [
  {
   "attachments": {},
   "cell_type": "markdown",
   "metadata": {},
   "source": [
    "Lots of ideas so far:\n",
    "\n",
    "- Train an nn on-top of sentence transformer to output logits / probs for score\n",
    "  - optimise against given scores\n",
    "\n",
    "- Other approach might be to get a good language model to summarise the given prompt,\n",
    "- embed its output\n",
    "- embed the inference input\n",
    "- get the absolute difference between the two, using the llm output as a ground truth\n",
    "  - the closer the distance, the better the score we assign to the prompt"
   ]
  },
  {
   "attachments": {},
   "cell_type": "markdown",
   "metadata": {},
   "source": []
  }
 ],
 "metadata": {
  "language_info": {
   "name": "python"
  },
  "orig_nbformat": 4
 },
 "nbformat": 4,
 "nbformat_minor": 2
}
